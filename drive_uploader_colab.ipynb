{
  "cells": [
    {
      "cell_type": "markdown",
      "metadata": {
        "id": "view-in-github",
        "colab_type": "text"
      },
      "source": [
        "# Google Drive Uploader for Downloaded Books\n",
        "\n",
        "This notebook uploads already downloaded books to Google Drive and updates the database with shareable links."
      ]
    },
    {
      "cell_type": "markdown",
      "metadata": {
        "id": "kV5f_5rDxTaN"
      },
      "source": [
        "## Setup\n",
        "\n",
        "First, let's install the required dependencies:"
      ]
    },
    {
      "cell_type": "code",
      "execution_count": null,
      "metadata": {
        "id": "JGfXs0dpxTaO"
      },
      "outputs": [],
      "source": [
        "!pip install psycopg2-binary google-api-python-client google-auth-httplib2 google-auth-oauthlib"
      ]
    },
    {
      "cell_type": "markdown",
      "metadata": {
        "id": "r8pDdN0yxTaP"
      },
      "source": [
        "## Database Configuration\n",
        "\n",
        "Enter your database credentials:"
      ]
    },
    {
      "cell_type": "code",
      "execution_count": null,
      "metadata": {
        "id": "uXHkqKu_xTaP"
      },
      "outputs": [],
      "source": [
        "DB_CONFIG = {
          'dbname': 'postgres',
          'user': 'postgres.odxzslgbroyinxvmudvs',
          'password': 'Manchunian199!',
          'host': 'aws-1-ap-southeast-1.pooler.supabase.com',
          'port': '6543'
        }"
      ]
    },
    {
      "cell_type": "markdown",
      "metadata": {
        "id": "iXfO8l3nxTaQ"
      },
      "source": [
        "## Google Drive Authentication\n",
        "\n",
        "Upload your `my_credentials.json` file by running the cell below and using the file picker:"
      ]
    },
    {
      "cell_type": "code",
      "execution_count": null,
      "metadata": {
        "id": "8KzJfBsixTaQ"
      },
      "outputs": [],
      "source": [
        "from google.colab import files
        import json

        print("Please upload your my_credentials.json file:")
        uploaded = files.upload()

        if 'my_credentials.json' in uploaded:
            print("Credentials file uploaded successfully!")
        else:
            print("Error: Please make sure you upload the correct file.")
      ]
    },
    {
      "cell_type": "markdown",
      "metadata": {
        "id": "rJ1jyXsixTaR"
      },
      "source": [
        "## Mount Google Drive\n",
        "\n",
        "Mount your Google Drive to save authentication tokens:"
      ]
    },
    {
      "cell_type": "code",
      "execution_count": null,
      "metadata": {
        "id": "n60KwYsixTaR"
      },
      "outputs": [],
      "source": [
        "from google.colab import drive
        drive.mount('/content/drive')"
      ]
    },
    {
      "cell_type": "markdown",
      "metadata": {
        "id": "d1J0hBsixTaS"
      },
      "source": [
        "## Authentication Functions\n",
        "\n",
        "Functions to handle Google Drive authentication:"
      ]
    },
    {
      "cell_type": "code",
      "execution_count": null,
      "metadata": {
        "id": "pFzDfZsixTaS"
      },
      "outputs": [],
      "source": [
        "import os
        import pickle
        from google.auth.transport.requests import Request
        from google_auth_oauthlib.flow import InstalledAppFlow
        from googleapiclient.discovery import build

        # Scopes required for Google Drive access
        SCOPES = ['https://www.googleapis.com/auth/drive.file']

        def authenticate_google_drive():
            \"\"\"Authenticate and return Google Drive service.\"\"\"
            creds = None
            
            # Token file path in Google Drive
            token_path = '/content/drive/MyDrive/token.pickle'
            
            # Load existing credentials
            if os.path.exists(token_path):
                with open(token_path, 'rb') as token:
                    creds = pickle.load(token)
            
            # If there are no valid credentials, let the user log in
            if not creds or not creds.valid:
                if creds and creds.expired and creds.refresh_token:
                    creds.refresh(Request())
                else:
                    if not os.path.exists('my_credentials.json'):
                        print("Error: my_credentials.json not found. Please upload it.")
                        return None
                    
                    flow = InstalledAppFlow.from_client_secrets_file(
                        'my_credentials.json', SCOPES)
                    creds = flow.run_local_server(port=0)
                
                # Save credentials for next run
                with open(token_path, 'wb') as token:
                    pickle.dump(creds, token)
            
            return build('drive', 'v3', credentials=creds)"
      ]
    },
    {
      "cell_type": "markdown",
      "metadata": {
        "id": "9rY7s0sixTaT"
      },
      "source": [
        "## Database Functions\n",
        "\n",
        "Functions to interact with the database:"
      ]
    },
    {
      "cell_type": "code",
      "execution_count": null,
      "metadata": {
        "id": "1V9YtDsixTaT"
      },
      "outputs": [],
      "source": [
        "import psycopg2
        from psycopg2.extras import RealDictCursor

        def get_db_connection():
            \"\"\"Create and return a database connection.\"\"\"
            return psycopg2.connect(
                dbname=DB_CONFIG['dbname'],
                user=DB_CONFIG['user'],
                password=DB_CONFIG['password'],
                host=DB_CONFIG['host'],
                port=DB_CONFIG['port']
            )

        def get_books_to_upload():
            \"\"\"Get books that need to be uploaded to Google Drive.\"\"\"
            try:
                conn = get_db_connection()
                cur = conn.cursor(cursor_factory=RealDictCursor)
                cur.execute(
                    \"\"\"SELECT md5, title, file_type, downloaded_filename 
                       FROM books 
                       WHERE download_status = 'success' 
                       AND downloaded_filename IS NOT NULL 
                       AND (drive_download_url IS NULL OR drive_download_url = '')\"\"\"
                )
                books = cur.fetchall()
                cur.close()
                conn.close()
                return books
            except Exception as error:
                print(f"Error fetching books from database: {error}")
                return []

        def update_drive_url_in_db(md5, drive_url):
            \"\"\"Update the Google Drive URL for a book in the database.\"\"\"
            try:
                conn = get_db_connection()
                cur = conn.cursor()
                cur.execute(
                    "UPDATE books SET drive_download_url = %s WHERE md5 = %s",
                    (drive_url, md5)
                )
                conn.commit()
                cur.close()
                conn.close()
                print(f"Updated Drive URL for MD5 {md5}")
            except Exception as error:
                print(f"Error updating Drive URL for MD5 {md5}: {error}")
      ]
    },
    {
      "cell_type": "markdown",
      "metadata": {
        "id": "O2fzF6sixTaU"
      },
      "source": [
        "## Google Drive Upload Functions\n",
        "\n",
        "Functions to upload files to Google Drive:"
      ]
    },
    {
      "cell_type": "code",
      "execution_count": null,
      "metadata": {
        "id": "1n5KQ1LuxTaU"
      },
      "outputs": [],
      "source": [
        "from googleapiclient.http import MediaFileUpload

        def upload_to_google_drive(service, file_path, filename):
            \"\"\"Upload a file to Google Drive and return the shareable link.\"\"\"
            try:
                # Upload the file
                media = MediaFileUpload(file_path, resumable=True)
                file_metadata = {'name': filename}
                
                uploaded_file = service.files().create(
                    body=file_metadata,
                    media_body=media,
                    fields='id'
                ).execute()
                
                # Make the file shareable
                permission = {
                    'type': 'anyone',
                    'role': 'reader'
                }
                service.permissions().create(
                    fileId=uploaded_file['id'],
                    body=permission
                ).execute()
                
                # Return the shareable link
                return f"https://drive.google.com/file/d/{uploaded_file['id']}/view?usp=sharing"
            except Exception as e:
                print(f"Error uploading to Google Drive: {e}")
                return None"
      ]
    },
    {
      "cell_type": "markdown",
      "metadata": {
        "id": "pLdF23c_xTaW"
      },
      "source": [
        "## Upload Books Function\n",
        "\n",
        "Function to upload downloaded books to Google Drive:"
      ]
    },
    {
      "cell_type": "code",
      "execution_count": null,
      "metadata": {
        "id": "rYQh0V1dxTaW"
      },
      "outputs": [],
      "source": [
        "import os
        from googleapiclient.http import MediaIoBaseUpload
        import io

        def upload_books_to_drive():
            \"\"\"Upload books to Google Drive and update database with URLs.\"\"\"
            # Authenticate with Google Drive
            service = authenticate_google_drive()
            if service is None:
                print("Failed to authenticate with Google Drive.")
                return
            
            # Get books to upload
            books = get_books_to_upload()
            if not books:
                print("No books to upload.")
                return
            
            print(f"Found {len(books)} books to upload.")
            
            # Upload each book
            for book in books:
                md5 = book['md5']
                title = book['title']
                file_type = book['file_type']
                filename = book['downloaded_filename']
                
                # For Colab, we need to upload files from a local directory
                # Create a downloads directory if it doesn't exist
                os.makedirs('downloads', exist_ok=True)
                filepath = os.path.join('downloads', filename)
                
                # Check if file exists locally
                if os.path.exists(filepath):
                    print(f"Uploading {filename} to Google Drive...")
                    drive_url = upload_to_google_drive(service, filepath, filename)
                    
                    if drive_url:
                        update_drive_url_in_db(md5, drive_url)
                        print(f"Uploaded {filename} to Google Drive: {drive_url}")
                    else:
                        print(f"Failed to upload {filename} to Google Drive")
                else:
                    print(f"File {filename} not found locally. Please upload it to the downloads folder.")
                    print("You can upload files using the cell below.")
      ]
    },
    {
      "cell_type": "markdown",
      "metadata": {
        "id": "yD3vJ5g7yJdD"
      },
      "source": [
        "## Upload Book Files\n",
        "\n",
        "Use this cell to upload your book files to the downloads folder:"
      ]
    },
    {
      "cell_type": "code",
      "execution_count": null,
      "metadata": {
        "id": "r1vX7xwHyR0g"
      },
      "outputs": [],
      "source": [
        "from google.colab import files
        import os

        # Create downloads directory if it doesn't exist
        os.makedirs('downloads', exist_ok=True)

        print("Please upload your book files:")
        uploaded = files.upload()

        # Move uploaded files to downloads directory
        for filename in uploaded.keys():
            # Files are initially uploaded to current directory
            os.rename(filename, os.path.join('downloads', filename))
            print(f"Moved {filename} to downloads folder")

        print("Upload complete!")
      ]
    },
    {
      "cell_type": "markdown",
      "metadata": {
        "id": "pZ8QfN0lxTaY"
      },
      "source": [
        "## Run the Uploader\n",
        "\n",
        "Now, let's upload the books to Google Drive:"
      ]
    },
    {
      "cell_type": "code",
      "execution_count": null,
      "metadata": {
        "id": "Hk2hO1gpxTaY"
      },
      "outputs": [],
      "source": [
        "# Upload books to Google Drive
        upload_books_to_drive()"
      ]
    },
    {
      "cell_type": "markdown",
      "metadata": {
        "id": "hOzQhB3_xTaY"
      },
      "source": [
        "## Verification\n",
        "\n",
        "Let's verify that the URLs were updated in the database:"
      ]
    },
    {
      "cell_type": "code",
      "execution_count": null,
      "metadata": {
        "id": "xZ3xJ3r7xTaZ"
      },
      "outputs": [],
      "source": [
        "def verify_drive_urls():
            \"\"\"Verify that Drive URLs were updated in the database.\"\"\"
            try:
                conn = get_db_connection()
                cur = conn.cursor(cursor_factory=RealDictCursor)
                cur.execute(
                    \"\"\"SELECT md5, title, downloaded_filename, drive_download_url 
                       FROM books 
                       WHERE drive_download_url IS NOT NULL AND drive_download_url != ''\"\"\"
                )
                books = cur.fetchall()
                cur.close()
                conn.close()
                
                if books:
                    print(f"Found {len(books)} books with Drive URLs:")
                    for book in books:
                        print(f"- {book['title']}: {book['drive_download_url']}")
                else:
                    print("No books with Drive URLs found.")
            except Exception as error:
                print(f"Error verifying Drive URLs: {error}")

        # Verify Drive URLs
        verify_drive_urls()"
      ]
    }
  ],
  "metadata": {
    "colab": {
      "provenance": [],
      "toc_visible": true
    },
    "kernelspec": {
      "display_name": "Python 3",
      "name": "python3"
    },
    "language_info": {
      "name": "python"
    }
  },
  "nbformat": 4,
  "nbformat_minor": 0
}