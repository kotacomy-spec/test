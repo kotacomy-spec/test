{
  "cells": [
    {
      "cell_type": "markdown",
      "metadata": {
        "id": "view-in-github",
        "colab_type": "text"
      },
      "source": [
        "# Book Downloader and Google Drive Uploader\n",
        "\n",
        "This notebook downloads books and uploads them to Google Drive, updating the database with shareable links."
      ]
    },
    {
      "cell_type": "markdown",
      "metadata": {
        "id": "kV5f_5rDxTaN"
      },
      "source": [
        "## Setup\n",
        "\n",
        "First, let's install the required dependencies:"
      ]
    },
    {
      "cell_type": "code",
      "execution_count": null,
      "metadata": {
        "id": "JGfXs0dpxTaO"
      },
      "outputs": [],
      "source": [
        "!pip install requests beautifulsoup4 psycopg2-binary google-api-python-client google-auth-httplib2 google-auth-oauthlib"
      ]
    },
    {
      "cell_type": "markdown",
      "metadata": {
        "id": "r8pDdN0yxTaP"
      },
      "source": [
        "## Database Configuration\n",
        "\n",
        "Enter your database credentials:"
      ]
    },
    {
      "cell_type": "code",
      "execution_count": null,
      "metadata": {
        "id": "uXHkqKu_xTaP"
      },
      "outputs": [],
      "source": [
        "DB_CONFIG = {\n",
        "    'dbname': 'postgres',\n",
        "    'user': 'postgres.odxzslgbroyinxvmudvs',\n",
        "    'password': 'Manchunian199!',\n",
        "    'host': 'aws-1-ap-southeast-1.pooler.supabase.com',\n",
        "    'port': '6543'\n",
        "}"
      ]
    },
    {
      "cell_type": "markdown",
      "metadata": {
        "id": "iXfO8l3nxTaQ"
      },
      "source": [
        "## Google Drive Authentication\n",
        "\n",
        "Upload your `my_credentials.json` file by running the cell below and using the file picker:"
      ]
    },
    {
      "cell_type": "code",
      "execution_count": null,
      "metadata": {
        "id": "8KzJfBsixTaQ"
      },
      "outputs": [],
      "source": [
        "from google.colab import files\n",
        "import json\n",
        "\n",
        "print(\"Please upload your my_credentials.json file:\")\n",
        "uploaded = files.upload()\n",
        "\n",
        "if 'my_credentials.json' in uploaded:\n",
        "    print(\"Credentials file uploaded successfully!\")\n",
        "else:\n",
        "    print(\"Error: Please make sure you upload the correct file.\")"
      ]
    },
    {
      "cell_type": "markdown",
      "metadata": {
        "id": "rJ1jyXsixTaR"
      },
      "source": [
        "## Mount Google Drive\n",
        "\n",
        "Mount your Google Drive to save authentication tokens:"
      ]
    },
    {
      "cell_type": "code",
      "execution_count": null,
      "metadata": {
        "id": "n60KwYsixTaR"
      },
      "outputs": [],
      "source": [
        "from google.colab import drive\n",
        "drive.mount('/content/drive')"
      ]
    },
    {
      "cell_type": "markdown",
      "metadata": {
        "id": "d1J0hBsixTaS"
      },
      "source": [
        "## Authentication Functions\n",
        "\n",
        "Functions to handle Google Drive authentication:"
      ]
    },
    {
      "cell_type": "code",
      "execution_count": null,
      "metadata": {
        "id": "pFzDfZsixTaS"
      },
      "outputs": [],
      "source": [
        "import os\n",
        "import pickle\n",
        "from google.auth.transport.requests import Request\n",
        "from google_auth_oauthlib.flow import InstalledAppFlow\n",
        "from googleapiclient.discovery import build\n",
        "\n",
        "# Scopes required for Google Drive access\n",
        "SCOPES = ['https://www.googleapis.com/auth/drive.file']\n",
        "\n",
        "def authenticate_google_drive():\n",
        "    \"\"\"Authenticate and return Google Drive service.\"\"\"\n",
        "    creds = None\n",
        "    \n",
        "    # Token file path in Google Drive\n",
        "    token_path = '/content/drive/MyDrive/token.pickle'\n",
        "    \n",
        "    # Load existing credentials\n",
        "    if os.path.exists(token_path):\n",
        "        with open(token_path, 'rb') as token:\n",
        "            creds = pickle.load(token)\n",
        "    \n",
        "    # If there are no valid credentials, let the user log in\n",
        "    if not creds or not creds.valid:\n",
        "        if creds and creds.expired and creds.refresh_token:\n",
        "            creds.refresh(Request())\n",
        "        else:\n",
        "            if not os.path.exists('my_credentials.json'):\n",
        "                print(\"Error: my_credentials.json not found. Please upload it.\")\n",
        "                return None\n",
        "            \n",
        "            flow = InstalledAppFlow.from_client_secrets_file(\n",
        "                'my_credentials.json', SCOPES)\n",
        "            creds = flow.run_local_server(port=0)\n",
        "        \n",
        "        # Save credentials for next run\n",
        "        with open(token_path, 'wb') as token:\n",
        "            pickle.dump(creds, token)\n",
        "    \n",
        "    return build('drive', 'v3', credentials=creds)"
      ]
    },
    {
      "cell_type": "markdown",
      "metadata": {
        "id": "9rY7s0sixTaT"
      },
      "source": [
        "## Database Functions\n",
        "\n",
        "Functions to interact with the database:"
      ]
    },
    {
      "cell_type": "code",
      "execution_count": null,
      "metadata": {
        "id": "1V9YtDsixTaT"
      },
      "outputs": [],
      "source": [
        "import psycopg2\n",
        "from psycopg2.extras import RealDictCursor\n",
        "\n",
        "def get_db_connection():\n",
        "    \"\"\"Create and return a database connection.\"\"\"\n",
        "    return psycopg2.connect(\n",
        "        dbname=DB_CONFIG['dbname'],\n",
        "        user=DB_CONFIG['user'],\n",
        "        password=DB_CONFIG['password'],\n",
        "        host=DB_CONFIG['host'],\n",
        "        port=DB_CONFIG['port']\n",
        "    )\n",
    {
      "cell_type": "markdown",
      "metadata": {
        "id": "O2fzF6sixTaU"
      },
      "source": [
        "## Google Drive Upload Functions\n",
        "\n",
        "Functions to upload files to Google Drive:"
      ]
    },
    {
      "cell_type": "code",
      "execution_count": null,
      "metadata": {
        "id": "1n5KQ1LuxTaU"
      },
      "outputs": [],
      "source": [
        "from googleapiclient.http import MediaFileUpload\n",
        "\n",
        "def upload_to_google_drive(service, file_path, filename):\n",
        "    \"\"\"Upload a file to Google Drive and return the shareable link.\"\"\"\n",
        "    try:\n",
        "        # Upload the file\n",
        "        media = MediaFileUpload(file_path, resumable=True)\n",
        "        file_metadata = {'name': filename}\n",
        "        \n",
        "        uploaded_file = service.files().create(\n",
        "            body=file_metadata,\n",
        "            media_body=media,\n",
        "            fields='id'\n",
        "        ).execute()\n",
        "        \n",
        "        # Make the file shareable\n",
        "        permission = {\n",
        "            'type': 'anyone',\n",
        "            'role': 'reader'\n",
        "        }\n",
        "        service.permissions().create(\n",
        "            fileId=uploaded_file['id'],\n",
        "            body=permission\n",
        "        ).execute()\n",
        "        \n",
        "        # Return the shareable link\n",
        "        return f\"https://drive.google.com/file/d/{uploaded_file['id']}/view?usp=sharing\"\n",
        "    except Exception as e:\n",
        "        print(f\"Error uploading to Google Drive: {e}\")\n",
        "        return None"
      ]
    },
    {
      "cell_type": "markdown",
      "metadata": {
        "id": "F5d7tPc_xTaV"
      },
      "source": [
        "## Download Books Function\n",
        "\n",
        "Function to download books (if needed):"
      ]
    },
    {
      "cell_type": "code",
      "execution_count": null,
      "metadata": {
        "id": "F3Q9wO7yxTaV"
      },
      "outputs": [],
      "source": [
        "import requests\n",
        "import os\n",
        "from urllib.parse import urljoin\n",
        "\n",
        "def download_books():\n",
        "    \"\"\"Download books that haven't been downloaded yet.\"\"\"\n",
        "    try:\n",
        "        conn = get_db_connection()\n",
        "        cur = conn.cursor(cursor_factory=RealDictCursor)\n",
        "        cur.execute(\n",
        "            \"\"\"SELECT md5, title, file_type, download_url, downloaded_filename \n",
        "               FROM books \n",
        "               WHERE download_status IS NULL OR download_status != 'success'\"\"\"\n",
        "        )\n",
        "        books = cur.fetchall()\n",
        "        cur.close()\n",
        "        conn.close()\n",
        "        \n",
        "        # Create downloads directory if it doesn't exist\n",
        "        os.makedirs('downloads', exist_ok=True)\n",
        "        \n",
        "        # Download each book\n",
        "        for book in books:\n",
        "            md5 = book['md5']\n",
        "            title = book['title']\n",
        "            file_type = book['file_type']\n",
        "            download_url = book['download_url']\n",
        "            \n",
        "            # Generate filename if not exists\n",
        "            if not book['downloaded_filename']:\n",
        "                filename = f\"{title}.{file_type}\" if title and file_type else f\"{md5}.{file_type}\"\n",
        "                # Sanitize filename\n",
        "                filename = \"\".join(c for c in filename if c.isalnum() or c in \"._- \").rstrip()\n",
        "            else:\n",
        "                filename = book['downloaded_filename']\n",
        "            \n",
        "            filepath = os.path.join('downloads', filename)\n",
        "            \n",
        "            # Skip if already downloaded\n",
        "            if os.path.exists(filepath):\n",
        "                print(f\"File {filename} already exists, skipping download.\")\n",
        "                continue\n",
        "            \n",
        "            # Download the file\n",
        "            print(f\"Downloading {title}...\")\n",
        "            response = requests.get(download_url)\n",
        "            \n",
        "            if response.status_code == 200:\n",
        "                with open(filepath, 'wb') as f:\n",
        "                    f.write(response.content)\n",
        "                \n",
        "                # Update database with filename and status\n",
        "                try:\n",
        "                    conn = get_db_connection()\n",
        "                    cur = conn.cursor()\n",
        "                    cur.execute(\n",
        "                        \"\"\"UPDATE books \n",
        "                           SET downloaded_filename = %s, download_status = 'success' \n",
        "                           WHERE md5 = %s\"\"\",\n",
        "                        (filename, md5)\n",
        "                    )\n",
        "                    conn.commit()\n",
        "                    cur.close()\n",
        "                    conn.close()\n",
        "                    print(f\"Downloaded {filename} successfully.\")\n",
        "                except Exception as error:\n",
        "                    print(f\"Error updating database for {filename}: {error}\")\n",
        "            else:\n",
        "                print(f\"Failed to download {title}. Status code: {response.status_code}\")\n",
        "                \n",
        "                # Update database with failed status\n",
        "                try:\n",
        "                    conn = get_db_connection()\n",
        "                    cur = conn.cursor()\n",
        "                    cur.execute(\n",
        "                        \"UPDATE books SET download_status = 'failed' WHERE md5 = %s\",\n",
        "                        (md5,)\n",
        "                    )\n",
        "                    conn.commit()\n",
        "                    cur.close()\n",
        "                    conn.close()\n",
        "                except Exception as error:\n",
        "                    print(f\"Error updating database for failed download: {error}\")\n",
        "    \n",
        "    except Exception as error:\n",
        "        print(f\"Error downloading books: {error}\")"
      ]
    },
    {
      "cell_type": "markdown",
      "metadata": {
        "id": "pLdF23c_xTaW"
      },
      "source": [
        "## Main Upload Function\n",
        "\n",
        "Function to upload downloaded books to Google Drive:"
      ]
    },
    {
      "cell_type": "code",
      "execution_count": null,
      "metadata": {
        "id": "rYQh0V1dxTaW"
      },
      "outputs": [],
      "source": [
        "def upload_downloaded_books_to_drive():\n",
        "    \"\"\"Upload all downloaded books to Google Drive and update database with URLs.\"\"\"\n",
        "    # Authenticate with Google Drive\n",
        "    service = authenticate_google_drive()\n",
        "    if service is None:\n",
        "        print(\"Failed to authenticate with Google Drive.\")\n",
        "        return\n",
        "    \n",
        "    # Get books to upload\n",
        "    books = get_books_to_upload()\n",
        "    if not books:\n",
        "        print(\"No books to upload.\")\n",
        "        return\n",
        "    \n",
        "    print(f\"Found {len(books)} books to upload.\")\n",
        "    \n",
        "    # Upload each book\n",
        "    for book in books:\n",
        "        md5 = book['md5']\n",
        "        title = book['title']\n",
        "        file_type = book['file_type']\n",
        "        filename = book['downloaded_filename']\n",
        "        filepath = os.path.join('downloads', filename)\n",
        "        \n",
        "        # Check if file exists\n",
        "        if os.path.exists(filepath):\n",
        "            print(f\"Uploading {filename} to Google Drive...\")\n",
        "            drive_url = upload_to_google_drive(service, filepath, filename)\n",
        "            \n",
        "            if drive_url:\n",
        "                update_drive_url_in_db(md5, drive_url)\n",
        "                print(f\"Uploaded {filename} to Google Drive: {drive_url}\")\n",
        "            else:\n",
        "                print(f\"Failed to upload {filename} to Google Drive\")\n",
        "        else:\n",
        "            print(f\"File {filename} not found in downloads directory\")"
      ]
    },
    {
      "cell_type": "markdown",
      "metadata": {
        "id": "3JxX9Z2_xTaX"
      },
      "source": [
        "## Run the Downloader and Uploader\n",
        "\n",
        "First, let's download any books that haven't been downloaded yet:"
      ]
    },
    {
      "cell_type": "code",
      "execution_count": null,
      "metadata": {
        "id": "7V5bJ7DdxTaX"
      },
      "outputs": [],
      "source": [
        "# Download books (uncomment to run)\n",
        "# download_books()"
      ]
    },
    {
      "cell_type": "markdown",
      "metadata": {
        "id": "pZ8QfN0lxTaY"
      },
      "source": [
        "Now, let's upload downloaded books to Google Drive:"
      ]
    },
    {
      "cell_type": "code",
      "execution_count": null,
      "metadata": {
        "id": "Hk2hO1gpxTaY"
      },
      "outputs": [],
      "source": [
        "# Upload books to Google Drive\n",
        "upload_downloaded_books_to_drive()"
      ]
    },
    {
      "cell_type": "markdown",
      "metadata": {
        "id": "hOzQhB3_xTaY"
      },
      "source": [
        "## Verification\n",
        "\n",
        "Let's verify that the URLs were updated in the database:"
      ]
    },
    {
      "cell_type": "code",
      "execution_count": null,
      "metadata": {
        "id": "xZ3xJ3r7xTaZ"
      },
      "outputs": [],
      "source": [
        "def verify_drive_urls():\n",
        "    \"\"\"Verify that Drive URLs were updated in the database.\"\"\"\n",
        "    try:\n",
        "        conn = get_db_connection()\n",
        "        cur = conn.cursor(cursor_factory=RealDictCursor)\n",
        "        cur.execute(\n",
        "            \"\"\"SELECT md5, title, downloaded_filename, drive_download_url \n",
        "               FROM books \n",
        "               WHERE drive_download_url IS NOT NULL AND drive_download_url != ''\"\"\"\n",
        "        )\n",
        "        books = cur.fetchall()\n",
        "        cur.close()\n",
        "        conn.close()\n",
        "        \n",
        "        if books:\n",
        "            print(f\"Found {len(books)} books with Drive URLs:\")\n",
        "            for book in books:\n",
        "                print(f\"- {book['title']}: {book['drive_download_url']}\")\n",
        "        else:\n",
        "            print(\"No books with Drive URLs found.\")\n",
        "    except Exception as error:\n",
        "        print(f\"Error verifying Drive URLs: {error}\")\n",
        "\n",
        "# Verify Drive URLs\n",
        "verify_drive_urls()"
      ]
    }
  ],
  "metadata": {
    "colab": {
      "provenance": [],
      "toc_visible": true
    },
    "kernelspec": {
      "display_name": "Python 3",
      "name": "python3"
    },
    "language_info": {
      "name": "python"
    }
  },
  "nbformat": 4,
  "nbformat_minor": 0
}